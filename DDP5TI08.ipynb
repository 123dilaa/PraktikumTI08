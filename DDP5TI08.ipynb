{
  "nbformat": 4,
  "nbformat_minor": 0,
  "metadata": {
    "colab": {
      "provenance": [],
      "authorship_tag": "ABX9TyNLCV0vkcuqVlo3zQ5qp01m",
      "include_colab_link": true
    },
    "kernelspec": {
      "name": "python3",
      "display_name": "Python 3"
    },
    "language_info": {
      "name": "python"
    }
  },
  "cells": [
    {
      "cell_type": "markdown",
      "metadata": {
        "id": "view-in-github",
        "colab_type": "text"
      },
      "source": [
        "<a href=\"https://colab.research.google.com/github/123dilaa/PraktikumTI08/blob/main/DDP5TI08.ipynb\" target=\"_parent\"><img src=\"https://colab.research.google.com/assets/colab-badge.svg\" alt=\"Open In Colab\"/></a>"
      ]
    },
    {
      "cell_type": "code",
      "execution_count": null,
      "metadata": {
        "colab": {
          "base_uri": "https://localhost:8080/"
        },
        "id": "OmyvrX3_UV4P",
        "outputId": "a601bfbe-47cb-47ef-8062-22dc92a724c9"
      },
      "outputs": [
        {
          "output_type": "stream",
          "name": "stdout",
          "text": [
            "['B 564 yu', 'Yamaha', 'Honda', 'CB150R', '160', 'biru', 'RP.19.000.000', 2]\n"
          ]
        }
      ],
      "source": [
        "#no1\n",
        "kendaraan=[\"BK 457B\", \"Honda\", \"160\", \"Putih\"]\n",
        "#no2\n",
        "kendaraan.append(\"RP.19.000.000\")\n",
        "kendaraan.append(2)\n",
        "kendaraan.insert(2, \"Honda\")\n",
        "kendaraan.insert(3, \"NMX\")\n",
        "print (kendaraan)\n",
        "#no3\n",
        "#3 buat program dengan bahasa pyhton dengan match case untuk menghitung luas bangun datar\n",
        "luas= input(\"Masukan luas (1. persegi, 2. lingkaran, 3. segitiga)\")\n",
        "\n",
        "match luas:\n",
        "    case \"1\"|\"persegi\":\n",
        "        sisi=int(input(\"masukan nilai sisi persegi\"))\n",
        "        luas=sisi*sisi\n",
        "        print(luas)\n",
        "    case \"2\"|\"lingkaran\":\n",
        "        jarijari=int(input(\"masukan nilai jarijari\"))\n",
        "        luas=3.14*jarijari**2\n",
        "        print(luas)\n",
        "    case \"3\"|\"segitiga\"|\"segitiga\":\n",
        "        alas=int(input(\"masukan nilai alas:\"))\n",
        "        tinggi=int(input(\"masukan nilai tinggi:\"))\n",
        "        luas=alas*tinggi/2\n",
        "        print(luas)\n",
        "    case _:\n",
        "        print(\"coba lagi\")"
      ]
    }
  ]
}